{
 "cells": [
  {
   "cell_type": "code",
   "execution_count": 610,
   "metadata": {},
   "outputs": [],
   "source": [
    "def get_histogram(image):\n",
    "    \n",
    "#-------------------------------------histogram-----------------------------------------------#\n",
    "    intensity_data=np.zeros(255,np.uint8)\n",
    "    for i in range(image.shape[0]):\n",
    "        for j in range(image.shape[1]):\n",
    "            intensity_data[image[i,j]]+=1\n",
    "#------------------------------------thresholding----------------------------------------------#\n",
    "#     plt.plot(intensity_data,color='RED')\n",
    "    min_x=image.shape[0]\n",
    "    min_y=image.shape[1]\n",
    "    max_x=0\n",
    "    max_y=0\n",
    "    threshold=203\n",
    "    for i in range(image.shape[0]):\n",
    "        for j in range(image.shape[1]):\n",
    "            \n",
    "            if(image[i,j]<threshold):\n",
    "                image[i,j]=0\n",
    "            else:\n",
    "                image[i,j]=255\n",
    "                if(i<min_x):\n",
    "                    min_x=i\n",
    "                elif(i>max_x):\n",
    "                    max_x=i\n",
    "                \n",
    "                if(j<min_y):\n",
    "                    min_y=j\n",
    "                elif(j>max_y):\n",
    "                    max_y=j\n",
    "    \n",
    "    cv2.rectangle(image,(min_y,min_x),(max_y,max_x),(255,255,0),3)\n",
    "    #saving the image with a bounding box\n",
    "    cv2.imwrite(\"bounded_rectangle.jpg\", image)\n",
    "    \n"
   ]
  },
  {
   "cell_type": "code",
   "execution_count": 611,
   "metadata": {},
   "outputs": [],
   "source": [
    "def point_detection(image, kernal):\n",
    "    threshold=281\n",
    "    porosity=np.zeros_like(image)\n",
    "    counter=0\n",
    "    x=0\n",
    "    y=0\n",
    "    for i in range(1, len(image)-1):\n",
    "        for j in range(1, len(image[i])-1):\n",
    "            pixel = kernal * image[i-1:i+2, j-1:j+2]\n",
    "            sum = np.sum(pixel)\n",
    "            if(sum>threshold and sum<threshold + 3):\n",
    "                porosity[i,j]=255\n",
    "                counter+=1\n",
    "                print(j,i)\n",
    "                x=j\n",
    "                y=i\n",
    "    \n",
    "    x1=str(x) +str(\",\") +str(y)\n",
    "    print(counter)\n",
    "    cv2.circle(porosity,(x,y), 10, (255,255,255), 1)\n",
    "    font = cv2.FONT_HERSHEY_SIMPLEX\n",
    "    cv2.putText(porosity,x1,(x+10,y), font, 0.6, (200,255,155), 1, cv2.LINE_AA)\n",
    "    cv2.imwrite(\"point detection.jpg\", porosity)\n",
    "    return porosity"
   ]
  },
  {
   "cell_type": "code",
   "execution_count": 612,
   "metadata": {},
   "outputs": [],
   "source": [
    "def main():\n",
    "#------------------------------------point detection--------------------------------------------#\n",
    "    image1=cv2.imread(\"point.jpg\",0)\n",
    "    kernal=[[-1,-1,-1],\n",
    "            [-1,8,-1],\n",
    "            [-1,-1,-1]]\n",
    "    point_detection(image1,kernal)\n",
    "    \n",
    "#------------------------------image segmentation using thresholding------------------------------------------------#\n",
    "    image=cv2.imread(\"segment.jpg\",0)\n",
    "    get_histogram(image)"
   ]
  },
  {
   "cell_type": "code",
   "execution_count": 613,
   "metadata": {
    "scrolled": true
   },
   "outputs": [
    {
     "name": "stdout",
     "output_type": "stream",
     "text": [
      "446 249\n",
      "1\n"
     ]
    }
   ],
   "source": [
    "import cv2\n",
    "import numpy as np\n",
    "from matplotlib import pyplot as plt\n",
    "if __name__== \"__main__\":\n",
    "    main()"
   ]
  },
  {
   "cell_type": "code",
   "execution_count": null,
   "metadata": {},
   "outputs": [],
   "source": []
  }
 ],
 "metadata": {
  "kernelspec": {
   "display_name": "Python 3",
   "language": "python",
   "name": "python3"
  },
  "language_info": {
   "codemirror_mode": {
    "name": "ipython",
    "version": 3
   },
   "file_extension": ".py",
   "mimetype": "text/x-python",
   "name": "python",
   "nbconvert_exporter": "python",
   "pygments_lexer": "ipython3",
   "version": "3.6.7"
  }
 },
 "nbformat": 4,
 "nbformat_minor": 2
}
