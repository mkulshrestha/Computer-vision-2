{
 "cells": [
  {
   "cell_type": "code",
   "execution_count": 89,
   "metadata": {},
   "outputs": [],
   "source": [
    "def get_image(url):\n",
    "    img = cv2.imread(url,0)\n",
    "    for i in range(img.shape[0]):\n",
    "        for j in range(img.shape[1]):\n",
    "            if(img[i,j]==255):\n",
    "                img[i,j]=1\n",
    "    return img\n"
   ]
  },
  {
   "cell_type": "code",
   "execution_count": 90,
   "metadata": {},
   "outputs": [],
   "source": [
    "def erosion(image):\n",
    "    oper = np.array([[0, 1, 0], [1, 1, 1], [0, 1, 0]])\n",
    "    image_erode = np.zeros_like(image)\n",
    "\n",                                               #this erosion loop is specific to an operator of 3X3 dimentionality
    "    for i in range(1, len(image)-1):\n",
    "        for j in range(1, len(image[i])-1):\n",
    "            pixel = oper * image[i-1:i+2, j-1:j+2]\n",
    "            sum = np.sum(pixel)\n",
    "            if(sum == 5):\n",
    "                image_erode[i, j] = 1\n",
    "\n",
    "\n",
    "    return image_erode;"
   ]
  },
  {
   "cell_type": "code",
   "execution_count": 91,
   "metadata": {},
   "outputs": [],
   "source": [
    "def dilation(image):\n",
    "    for i in range(len(image)):           \n",
    "        for j in range(len(image[i])):\n",
    "            if (image[i,j] == 1):\n",
    "                if (i>0 and image[i-1,j]==0):\n",
    "                    image[i-1,j] = 2\n",
    "                if (j>0 and image[i,j-1]==0):\n",
    "                    image[i,j-1] = 2\n",
    "                if (i+1<len(image) and image[i+1,j]==0):\n",
    "                    image[i+1,j] = 2\n",
    "                if (j+1<len(image[i]) and image[i,j+1]==0):\n",
    "                    image[i,j+1] = 2\n",
    "\n",
    "    for i in range(len(image)):\n",
    "        for j in range(len(image[i])):\n",
    "            if (image[i][j] == 2):\n",
    "                image[i][j] = 1\n",
    "    return image\n"
   ]
  },
  {
   "cell_type": "code",
   "execution_count": 92,
   "metadata": {},
   "outputs": [],
   "source": [
    "def boundary_extraction(image):\n",
    "    return (image-erosion(image))\n",
    "    "
   ]
  },
  {
   "cell_type": "code",
   "execution_count": 93,
   "metadata": {},
   "outputs": [],
   "source": [
    "def main():\n",
    "    image= \"noise.jpg\"\n",
    "    bin_image=get_image(image)\n",
    "    \n",
    "#-------------------------------------------------opening followed by closing-----------------------------------------#    \n",
    "\n",
    "    #first noise removal operation-opening then closing\n",
    "    #opening process (A!B)dialtion(B)\n",
    "    \n",
    "    eroded_image=erosion(bin_image)\n",
    "    opening_result=dilation(eroded_image)\n",
    "\n",
    "    #closing the image obtained after opening \n",
    "    #closing process-A(dilation)B(!)B\n",
    "    \n",
    "    dilated_image=dilation(opening_result)\n",
    "    \n",
    "    closing_result= erosion(dilated_image)\n",
    "    cv2.imwrite(\"res_noise1.jpg\", closing_result*255)\n",
    "    print( \"image saved -opening followed by closing\")\n",
    "    cv2.imwrite(\"res_bound1.jpg\",(boundary_extraction(closing_result))*255)\n",
    "    print(\"image saved - boundary extracted from res_noise1\")\n",
    "\n",
    "\n",
    "    \n",
    "#-------------------------------------------------closing followed by opening-----------------------------------------#    \n",
    "\n",
    "    #second noise removal operation-closing followed by opening\n",
    "    #closing process-A(dilation)B(!)B\n",
    "    \n",
    "    dilated_image=dilation(bin_image)\n",
    "    \n",
    "    closing_result= erosion(dilated_image)\n",
    "    \n",
    "    #opening process (A!B)dialtion(B)\n",
    "    \n",
    "    eroded_image=erosion(closing_result)\n",
    "    \n",
    "    opening_result=dilation(eroded_image)\n",
    "    \n",
    "    cv2.imwrite(\"res_noise2.jpg\", opening_result*255)\n",
    "    print(\"Image saved -closing followed by opening\")\n",
    "    cv2.imwrite(\"res_bound2.jpg\",(boundary_extraction(opening_result))*255)\n",
    "    print(\"image saved - boundary extracted from res_noise2\")\n",
    "#--------------------------------------------------task 2-------------------------------------------------------------#    \n",
    "    \n",
    "    \n",
    "    "
   ]
  },
  {
   "cell_type": "code",
   "execution_count": 94,
   "metadata": {},
   "outputs": [
    {
     "name": "stdout",
     "output_type": "stream",
     "text": [
      "image saved -opening followed by closing\n",
      "image saved - boundary extracted from res_noise1\n",
      "Image saved -closing followed by opening\n",
      "image saved - boundary extracted from res_noise2\n"
     ]
    }
   ],
   "source": [
    "import cv2\n",
    "import numpy as np\n",
    "from matplotlib import pyplot as plt\n",
    "\n",
    "if __name__== \"__main__\":\n",
    "    main()"
   ]
  },
  {
   "cell_type": "code",
   "execution_count": null,
   "metadata": {},
   "outputs": [],
   "source": []
  }
 ],
 "metadata": {
  "kernelspec": {
   "display_name": "Python 3",
   "language": "python",
   "name": "python3"
  },
  "language_info": {
   "codemirror_mode": {
    "name": "ipython",
    "version": 3
   },
   "file_extension": ".py",
   "mimetype": "text/x-python",
   "name": "python",
   "nbconvert_exporter": "python",
   "pygments_lexer": "ipython3",
   "version": "3.6.7"
  }
 },
 "nbformat": 4,
 "nbformat_minor": 2
}
